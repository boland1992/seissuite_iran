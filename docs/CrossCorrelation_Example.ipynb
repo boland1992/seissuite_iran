{
 "cells": [
  {
   "cell_type": "markdown",
   "metadata": {
    "collapsed": true
   },
   "source": [
    "##Ambient Noise Preprocessed Waveform Cross-Correlation Examples##\n",
    "\n",
    "The following notebook contains examples for using the psprocess.py and then the pscrosscorr toolbox for preprocessing raw seismic waveforms. These are then cross-correlated to produce a Green's function, representative of the trace path between the two stations. Currently the script can only operate with MSEED formats, but additional support for other formats such as: SAC, SEED and SUDS will likely be added in the future. The user specifies the input path to the raw waveform. This waveform should be only one trace for the purposes of this example, e.g. BHZ. A Preprocess object is created with this input, and the output is specified by one of the functions contained. \n",
    "\n",
    "The theory for the current pre-processing workflow in this example follows for preprocessing is explained in depth in Bensen et al. (2007). This example is a simple one that shows the outputs of two cross-correlated, unstacked, pre-processed seismic waveforms. If you want to learn more about the pre-processing steps, please refer to the ipython notebook examples provided. "
   ]
  },
  {
   "cell_type": "code",
   "execution_count": 8,
   "metadata": {
    "collapsed": false
   },
   "outputs": [],
   "source": [
    "from pysismo.pspreprocess import Preprocess\n",
    "from obspy.signal.cross_correlation import xcorr\n",
    "from obspy import read \n",
    "from obspy.core import Stream\n",
    "import matplotlib.pyplot as plt\n",
    "import numpy as np\n",
    "import os\n",
    "%matplotlib inline"
   ]
  },
  {
   "cell_type": "markdown",
   "metadata": {},
   "source": [
    "The Preprocess class requires many input parameters to function. Below is a list of examples."
   ]
  },
  {
   "cell_type": "code",
   "execution_count": 12,
   "metadata": {
    "collapsed": false
   },
   "outputs": [],
   "source": [
    "# list of example variables for Preprocess class\n",
    "FREQMAX = 1./1                            # bandpass parameters\n",
    "FREQMIN = 1/20.0\n",
    "CORNERS = 2\n",
    "ZEROPHASE = True \n",
    "ONEBIT_NORM = False                       # one-bit normalization\n",
    "PERIOD_RESAMPLE = 0.02                    # resample period to decimate traces, after band-pass\n",
    "FREQMIN_EARTHQUAKE = 1/75.0               # earthquakes periods band\n",
    "FREQMAX_EARTHQUAKE = 1/25.0   \n",
    "WINDOW_TIME = 0.5 * 1./FREQMAX_EARTHQUAKE # time window to calculate time-normalisation weights\n",
    "WINDOW_FREQ = 0.0002                      # freq window (Hz) to smooth ampl spectrum\n",
    "CROSSCORR_TMAX = 300                      # set maximun cross-correlation time window both positive and negative!\n",
    "# initialise the Preprocess class\n",
    "PREPROCESS = Preprocess(FREQMIN, FREQMAX, FREQMIN_EARTHQUAKE, \n",
    "                        FREQMAX_EARTHQUAKE, CORNERS, ZEROPHASE, \n",
    "                        PERIOD_RESAMPLE, WINDOW_TIME, WINDOW_FREQ, \n",
    "                        ONEBIT_NORM)"
   ]
  },
  {
   "cell_type": "code",
   "execution_count": 7,
   "metadata": {
    "collapsed": false
   },
   "outputs": [
    {
     "name": "stdout",
     "output_type": "stream",
     "text": [
      "Importing header information ... \n",
      "Importing header information ... \n"
     ]
    }
   ],
   "source": [
    "# specify the path to the desired waveforms, the example folder xcorr is provided. \n",
    "example_folder = 'tools/examples/xcorr'\n",
    "\n",
    "def paths(folder_path, extension, sort=False):\n",
    "    \"\"\"\n",
    "    Function that returns a list of desired absolute paths called abs_paths\n",
    "    of files that contains a given extension e.g. .txt should be entered as\n",
    "    folder_path, txt. This function will run recursively through and find\n",
    "    any and all files within this folder with that extension!\n",
    "    \"\"\"\n",
    "    abs_paths = []\n",
    "    for root, dirs, files in os.walk(folder_path):\n",
    "        for f in files:\n",
    "            fullpath = os.path.join(root, f)\n",
    "            if os.path.splitext(fullpath)[1] == '.{}'.format(extension):\n",
    "                abs_paths.append(fullpath)\n",
    "    if sort:\n",
    "        abs_paths = sorted(abs_paths, key=paths_sort)\n",
    "    \n",
    "    return abs_paths\n",
    "\n",
    "# create a list of possible MSEED files inside this folder to iterate over. \n",
    "abs_paths = paths(example_folder, 'mseed')\n",
    "preprocessed_traces = []\n",
    "for abs_path in abs_paths:\n",
    "    st_headers = read(abs_path, headonly=True)\n",
    "    starttime = st_headers[0].stats.starttime\n",
    "    endtime = starttime + 10*60 #only input 10min waveforms for this example\n",
    "\n",
    "    # import a trace from the example waveform\n",
    "    st = read(abs_path, starttime=starttime, endtime=endtime)\n",
    "    \n",
    "    # merge stream\n",
    "    st.merge(fill_value='interpolate')\n",
    "    # select trace from merged stream\n",
    "    tr = st[0]\n",
    "    \n",
    "    #preprocess the trace\n",
    "    tr = PREPROCESS.bandpass_filt(tr)\n",
    "    tr = PREPROCESS.trace_downsample(tr)\n",
    "    # copy the trace for time normalisation\n",
    "    tr_copy = tr\n",
    "    # process for time normalisation\n",
    "    tr = PREPROCESS.time_norm(tr, tr_copy)\n",
    "    tr = PREPROCESS.spectral_whitening(tr)\n",
    "    preprocessed_traces.append(tr)\n"
   ]
  },
  {
   "cell_type": "markdown",
   "metadata": {},
   "source": [
    "Now perform a cross-correlation using obspy's c-wrapped xcorr function."
   ]
  },
  {
   "cell_type": "code",
   "execution_count": 17,
   "metadata": {
    "collapsed": false
   },
   "outputs": [
    {
     "data": {
      "image/png": "[encoded data removed]",
      "text/plain": [
       "<matplotlib.figure.Figure at 0x7fdb14264f10>"
      ]
     },
     "metadata": {},
     "output_type": "display_data"
    }
   ],
   "source": [
    "# set the two traces tr1 and tr2 to be cross-correlated\n",
    "tr1, tr2 = preprocessed_traces\n",
    "\n",
    "# initializing time and data arrays of cross-correlation, because xcorrs can be symmetric, the final waveform will be \n",
    "# symmetic about 0 where the maximum extents are CROSSCORR_TMAX in seconds both +ve and -ve. \n",
    "nmax = int(CROSSCORR_TMAX / PERIOD_RESAMPLE)\n",
    "timearray = np.arange(-nmax * PERIOD_RESAMPLE, (nmax + 1)*PERIOD_RESAMPLE, PERIOD_RESAMPLE)\n",
    "\n",
    "# the shift length provides the ability to choose the overlap between the traces to be correlated.\n",
    "SHIFT_LEN = (len(timearray) - 1) * 0.5 \n",
    "\n",
    "crosscorr = xcorr(tr1, tr2, shift_len=len(tr1.data)/2, full_xcorr=True)[2]\n",
    "\n",
    "plt.figure()\n",
    "plt.plot(crosscorr)\n",
    "plt.show()"
   ]
  },
  {
   "cell_type": "markdown",
   "metadata": {
    "collapsed": true
   },
   "source": [
    "##References##\n",
    "\n",
    "Bensen, G., Ritzwoller, M., Barmin, M., Levshin, A., Lin, F., & Moschetti, M. et al. (2007). Processing seismic ambient noise data to obtain reliable broad-band surface wave dispersion measurements. Geophysical Journal International, 169(3), 1239-1260. doi:10.1111/j.1365-246x.2007.03374.x"
   ]
  }
 ],
 "metadata": {
  "kernelspec": {
   "display_name": "Python 2",
   "language": "python",
   "name": "python2"
  },
  "language_info": {
   "codemirror_mode": {
    "name": "ipython",
    "version": 2
   },
   "file_extension": ".py",
   "mimetype": "text/x-python",
   "name": "python",
   "nbconvert_exporter": "python",
   "pygments_lexer": "ipython2",
   "version": "2.7.10"
  }
 },
 "nbformat": 4,
 "nbformat_minor": 0
}
